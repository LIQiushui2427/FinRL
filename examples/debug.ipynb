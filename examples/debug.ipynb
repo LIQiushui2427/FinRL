{
 "cells": [
  {
   "cell_type": "code",
   "execution_count": 1,
   "metadata": {},
   "outputs": [
    {
     "name": "stdout",
     "output_type": "stream",
     "text": [
      "Collecting git+https://github.com/DLR-RM/stable-baselines3\n",
      "  Cloning https://github.com/DLR-RM/stable-baselines3 to /tmp/pip-req-build-f2at2o8x\n",
      "  Running command git clone --filter=blob:none --quiet https://github.com/DLR-RM/stable-baselines3 /tmp/pip-req-build-f2at2o8x\n",
      "  Resolved https://github.com/DLR-RM/stable-baselines3 to commit 56c153f048f1035f239b77d1569b240ace83c130\n",
      "  Installing build dependencies ... \u001b[?25ldone\n",
      "\u001b[?25h  Getting requirements to build wheel ... \u001b[?25ldone\n",
      "\u001b[?25h  Preparing metadata (pyproject.toml) ... \u001b[?25ldone\n",
      "\u001b[?25hRequirement already satisfied: gymnasium<0.30,>=0.28.1 in /home/lqs/anaconda3/envs/py310/lib/python3.10/site-packages (from stable_baselines3==2.4.0a10) (0.29.1)\n",
      "Requirement already satisfied: numpy<2.0,>=1.20 in /home/lqs/.local/lib/python3.10/site-packages (from stable_baselines3==2.4.0a10) (1.26.4)\n",
      "Requirement already satisfied: torch>=1.13 in /home/lqs/.local/lib/python3.10/site-packages (from stable_baselines3==2.4.0a10) (1.13.1+cu116)\n",
      "Requirement already satisfied: cloudpickle in /home/lqs/anaconda3/envs/py310/lib/python3.10/site-packages (from stable_baselines3==2.4.0a10) (3.1.0)\n",
      "Requirement already satisfied: pandas in /home/lqs/.local/lib/python3.10/site-packages (from stable_baselines3==2.4.0a10) (2.2.2)\n",
      "Requirement already satisfied: matplotlib in /home/lqs/.local/lib/python3.10/site-packages (from stable_baselines3==2.4.0a10) (3.8.0)\n",
      "Requirement already satisfied: typing-extensions>=4.3.0 in /home/lqs/.local/lib/python3.10/site-packages (from gymnasium<0.30,>=0.28.1->stable_baselines3==2.4.0a10) (4.12.2)\n",
      "Requirement already satisfied: farama-notifications>=0.0.1 in /home/lqs/anaconda3/envs/py310/lib/python3.10/site-packages (from gymnasium<0.30,>=0.28.1->stable_baselines3==2.4.0a10) (0.0.4)\n",
      "Requirement already satisfied: contourpy>=1.0.1 in /home/lqs/.local/lib/python3.10/site-packages (from matplotlib->stable_baselines3==2.4.0a10) (1.1.1)\n",
      "Requirement already satisfied: cycler>=0.10 in /home/lqs/.local/lib/python3.10/site-packages (from matplotlib->stable_baselines3==2.4.0a10) (0.12.1)\n",
      "Requirement already satisfied: fonttools>=4.22.0 in /home/lqs/.local/lib/python3.10/site-packages (from matplotlib->stable_baselines3==2.4.0a10) (4.43.1)\n",
      "Requirement already satisfied: kiwisolver>=1.0.1 in /home/lqs/.local/lib/python3.10/site-packages (from matplotlib->stable_baselines3==2.4.0a10) (1.4.5)\n",
      "Requirement already satisfied: packaging>=20.0 in /home/lqs/anaconda3/envs/py310/lib/python3.10/site-packages (from matplotlib->stable_baselines3==2.4.0a10) (23.2)\n",
      "Requirement already satisfied: pillow>=6.2.0 in /home/lqs/.local/lib/python3.10/site-packages (from matplotlib->stable_baselines3==2.4.0a10) (10.0.1)\n",
      "Requirement already satisfied: pyparsing>=2.3.1 in /home/lqs/anaconda3/envs/py310/lib/python3.10/site-packages (from matplotlib->stable_baselines3==2.4.0a10) (3.2.0)\n",
      "Requirement already satisfied: python-dateutil>=2.7 in /home/lqs/.local/lib/python3.10/site-packages (from matplotlib->stable_baselines3==2.4.0a10) (2.9.0.post0)\n",
      "Requirement already satisfied: pytz>=2020.1 in /home/lqs/.local/lib/python3.10/site-packages (from pandas->stable_baselines3==2.4.0a10) (2024.1)\n",
      "Requirement already satisfied: tzdata>=2022.7 in /home/lqs/.local/lib/python3.10/site-packages (from pandas->stable_baselines3==2.4.0a10) (2024.1)\n",
      "Requirement already satisfied: six>=1.5 in /home/lqs/anaconda3/envs/py310/lib/python3.10/site-packages (from python-dateutil>=2.7->matplotlib->stable_baselines3==2.4.0a10) (1.16.0)\n",
      "Building wheels for collected packages: stable_baselines3\n",
      "  Building wheel for stable_baselines3 (pyproject.toml) ... \u001b[?25ldone\n",
      "\u001b[?25h  Created wheel for stable_baselines3: filename=stable_baselines3-2.4.0a10-py3-none-any.whl size=183477 sha256=5aa4a543b7bc04f69bc83de5a44d75dbf5a30a11d97064b032306ed5a24a1f80\n",
      "  Stored in directory: /tmp/pip-ephem-wheel-cache-cr_uyo3r/wheels/3b/24/65/bc2794face336930a72bdbe36faf5aad6e2352b3d1dec310ca\n",
      "Successfully built stable_baselines3\n",
      "Installing collected packages: stable_baselines3\n",
      "  Attempting uninstall: stable_baselines3\n",
      "    Found existing installation: stable_baselines3 2.4.0a7\n",
      "    Uninstalling stable_baselines3-2.4.0a7:\n",
      "      Successfully uninstalled stable_baselines3-2.4.0a7\n",
      "Successfully installed stable_baselines3-2.4.0a10\n"
     ]
    }
   ],
   "source": [
    "! pip install git+https://github.com/DLR-RM/stable-baselines3"
   ]
  }
 ],
 "metadata": {
  "kernelspec": {
   "display_name": "py310",
   "language": "python",
   "name": "python3"
  },
  "language_info": {
   "codemirror_mode": {
    "name": "ipython",
    "version": 3
   },
   "file_extension": ".py",
   "mimetype": "text/x-python",
   "name": "python",
   "nbconvert_exporter": "python",
   "pygments_lexer": "ipython3",
   "version": "3.10.15"
  }
 },
 "nbformat": 4,
 "nbformat_minor": 2
}
